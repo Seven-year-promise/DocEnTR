{
 "cells": [
  {
   "cell_type": "code",
   "execution_count": 17,
   "metadata": {},
   "outputs": [],
   "source": [
    "from thinc import config\n",
    "import torch\n",
    "from vit_pytorch import ViT\n",
    "from models.binae import BINMODEL\n",
    "import torchvision.transforms as transforms\n",
    "import numpy as np\n",
    "import torch.optim as optim\n",
    "from einops import rearrange\n",
    "import os"
   ]
  },
  {
   "cell_type": "markdown",
   "metadata": {},
   "source": [
    "Specify the configurations that you want to use to build your model"
   ]
  },
  {
   "cell_type": "code",
   "execution_count": 18,
   "metadata": {},
   "outputs": [],
   "source": [
    "\n",
    "THRESHOLD = 0.5 ## binarization threshold after the model output\n",
    "\n",
    "SPLITSIZE =  256  ## your image will be divided into patches of 256x256 pixels\n",
    "SETTING = \"base\"  ## choose the desired model size [small, base or large], depending on the model you want to use\n",
    "patch_size = 16 ## choose your desired patch size [8 or 16], depending on the model you want to use\n",
    "\n",
    "image_size =  (SPLITSIZE,SPLITSIZE)\n",
    "\n",
    "\n",
    "device = torch.device('cuda' if torch.cuda.is_available() else 'cpu')"
   ]
  },
  {
   "cell_type": "code",
   "execution_count": 19,
   "metadata": {},
   "outputs": [],
   "source": [
    "\n",
    "if SETTING == 'base':\n",
    "    ENCODERLAYERS = 6\n",
    "    ENCODERHEADS = 8\n",
    "    ENCODERDIM = 768\n",
    "\n",
    "if SETTING == 'small':\n",
    "    ENCODERLAYERS = 3\n",
    "    ENCODERHEADS = 4\n",
    "    ENCODERDIM = 512\n",
    "\n",
    "if SETTING == 'large':\n",
    "    ENCODERLAYERS = 12\n",
    "    ENCODERHEADS = 16\n",
    "    ENCODERDIM = 1024"
   ]
  },
  {
   "cell_type": "markdown",
   "metadata": {},
   "source": [
    "Build your model"
   ]
  },
  {
   "cell_type": "code",
   "execution_count": null,
   "metadata": {},
   "outputs": [],
   "source": [
    "\n",
    "v = ViT(\n",
    "    image_size = image_size,\n",
    "    patch_size = patch_size,\n",
    "    num_classes = 1000,\n",
    "    dim = ENCODERDIM,\n",
    "    depth = ENCODERLAYERS,\n",
    "    heads = ENCODERHEADS,\n",
    "    mlp_dim = 2048\n",
    ")\n",
    "\n",
    "model = BINMODEL(\n",
    "    encoder = v,\n",
    "    masking_ratio = 0.5,   # __ doesnt matter for binarization\n",
    "    decoder_dim = ENCODERDIM,      \n",
    "    decoder_depth = ENCODERLAYERS,\n",
    "    decoder_heads = ENCODERHEADS       \n",
    ")\n"
   ]
  },
  {
   "cell_type": "markdown",
   "metadata": {},
   "source": [
    "Read the degraded image here"
   ]
  },
  {
   "cell_type": "code",
   "execution_count": null,
   "metadata": {},
   "outputs": [],
   "source": [
    "deg_image = "
   ]
  },
  {
   "cell_type": "code",
   "execution_count": null,
   "metadata": {},
   "outputs": [],
   "source": []
  }
 ],
 "metadata": {
  "interpreter": {
   "hash": "6d9f0b2f7ce66eb0711cec7c8aaa7059f0173343c6ccde03c0c9a786f97f4034"
  },
  "kernelspec": {
   "display_name": "Python 3.7.11 64-bit ('vit': conda)",
   "language": "python",
   "name": "python3"
  },
  "language_info": {
   "codemirror_mode": {
    "name": "ipython",
    "version": 3
   },
   "file_extension": ".py",
   "mimetype": "text/x-python",
   "name": "python",
   "nbconvert_exporter": "python",
   "pygments_lexer": "ipython3",
   "version": "3.7.11"
  },
  "orig_nbformat": 4
 },
 "nbformat": 4,
 "nbformat_minor": 2
}
